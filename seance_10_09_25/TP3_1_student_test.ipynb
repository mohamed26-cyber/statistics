{
 "cells": [
  {
   "cell_type": "markdown",
   "metadata": {},
   "source": [
    "# TP 3.1 : Test de Student"
   ]
  },
  {
   "cell_type": "markdown",
   "metadata": {},
   "source": [
    "Nous nous intéressons ici au test de Student de comparaison des moyennes sur 2 échantillons indépendants simulés selon des lois normales de même variance $\\sigma^2 > 0$,\n",
    "\\begin{equation*}\n",
    "X_1,\\dots,X_p \\sim \\mathcal{N}(m_X,\\sigma^2) \\quad \\text{et} \\quad Y_1,\\dots,Y_q \\sim \\mathcal{N}(m_Y,\\sigma^2).\n",
    "\\end{equation*}\n",
    "Pour expérimenter, nous prendrons $p=q=10$, $m_X=m_Y=0$ et $\\sigma^2=1$."
   ]
  },
  {
   "cell_type": "code",
   "execution_count": 2,
   "metadata": {
    "vscode": {
     "languageId": "r"
    }
   },
   "outputs": [],
   "source": [
    "# Génération des échantillons\n",
    "x <- rnorm(10)\n",
    "y <- rnorm(10)"
   ]
  },
  {
   "cell_type": "markdown",
   "metadata": {},
   "source": [
    "Le test bilatéral de comparaison des moyennes sur ces 2 échantillons se fait en utilisant la fonction `t.test()` avec l'option `var.equal=TRUE`."
   ]
  },
  {
   "cell_type": "code",
   "execution_count": 3,
   "metadata": {
    "vscode": {
     "languageId": "r"
    }
   },
   "outputs": [
    {
     "data": {
      "text/plain": [
       "\n",
       "\tTwo Sample t-test\n",
       "\n",
       "data:  x and y\n",
       "t = 0.9539, df = 18, p-value = 0.3528\n",
       "alternative hypothesis: true difference in means is not equal to 0\n",
       "95 percent confidence interval:\n",
       " -0.4761823  1.2681948\n",
       "sample estimates:\n",
       " mean of x  mean of y \n",
       "-0.1506241 -0.5466304 \n"
      ]
     },
     "metadata": {},
     "output_type": "display_data"
    }
   ],
   "source": [
    "# Test bilatéral de comparaison des moyennes\n",
    "resultat_test <- t.test(x, y, var.equal=TRUE)\n",
    "\n",
    "# L'objet obtenu contient beaucoup d'informations\n",
    "resultat_test"
   ]
  },
  {
   "cell_type": "markdown",
   "metadata": {},
   "source": [
    "<div class=\"alert alert-block alert-success\">\n",
    "    Utilisez la cellule suivante pour répondre aux questions :\n",
    "    <ol>\n",
    "        <li>Donner l'hypothèse nulle $H_0$ et l'hypothèse alternative $H_1$ de ce test.</li>\n",
    "        <li>Pourquoi faut-il supposer que les deux échantillons aient la même variance ? En particulier, quelle est la loi de la variable\n",
    "            \\begin{equation*}\n",
    "                (p+q-2)\\frac{\\tilde{\\sigma}^2_{p,q}}{\\sigma^2} \\quad \\text{où} \\quad \\tilde{\\sigma}^2_{p,q} = \\frac{1}{p+q-2}\\sum_{k=1}^p\\left( X_k - \\bar{X}_p \\right)^2 + \\frac{1}{p+q-2}\\sum_{k=1}^q\\left( Y_k - \\bar{Y}_q \\right)^2\\ ?\n",
    "            \\end{equation*}\n",
    "        </li>\n",
    "        <li>En déduire la loi de la statistique de test\n",
    "            \\begin{equation*}\n",
    "                T = \\sqrt{\\frac{pq}{p+q}} \\times \\frac{\\bar{X}_p - \\bar{Y}_q}{\\sqrt{\\tilde{\\sigma}^2_{p,q}}}.\n",
    "            \\end{equation*}\n",
    "        </li>\n",
    "        <li>Vérifier le calcul de la statistique de test donné dans <code>resultat_test</code>.</li>\n",
    "        <li>Quelle est la p-valeur du test <code>resultat_test</code> ? Pour un niveau de 95%, doit-on accepter ou rejeter $H_0$ ? Est-ce cohérent avec notre simulation initiale ?</li>\n",
    "        <li>Recalculer cette p-valeur à partir d'une loi de Student à 18 degrés de liberté.</li>\n",
    "    </ol>\n",
    "</div>"
   ]
  },
  {
   "cell_type": "code",
   "execution_count": 13,
   "metadata": {
    "vscode": {
     "languageId": "r"
    }
   },
   "outputs": [
    {
     "name": "stdout",
     "output_type": "stream",
     "text": [
      "T= 0.9538973 \n",
      "p_value= 0.3527713 \n",
      "p_value de la loi t de Student= 0.3527713 \n"
     ]
    }
   ],
   "source": [
    "# À FAIRE\n",
    "# Q1: H0 et H1\n",
    "#     H0: mu_x = mu_y\n",
    "#     H1: mu_x != mu_y\n",
    "# Q2:cette variable suit la loi χ2(p + q −2)\n",
    "# Q3: cette variable suit la loi t(p + q −2)( loi de Student de p + q −2 degrés de liberté)\n",
    "# Q4:\n",
    "p=length(x)\n",
    "q=length(y)\n",
    "sigma_pq=(sum((x-mean(x))^2)+sum((y-mean(y))^2))/(p+q-2)\n",
    "t=sqrt(p*q/(p+q))*(mean(x)-mean(y))/sqrt(sigma_pq)\n",
    "cat(\"T=\",t,\"\\n\")\n",
    "cat(\"p_value=\",resultat_test$p.value,\"\\n\")\n",
    "# Q5: On rejette H0 au seuil 5% \n",
    "#     si la p_value est inférieure à 0.05\n",
    "#     ici p_value=0.35 > 0.05 donc on ne rejette\n",
    "#     Ce qui est cohérent avec le fait que les échantillons\n",
    "#     ont été générés selon la même loi.\n",
    "# Q6:\n",
    "# p_value du loin t de Student\n",
    "p_value_st=2*(1-pt(abs(t),df=p+q-2))\n",
    "cat(\"p_value de la loi t de Student=\",p_value_st,\"\\n\")\n",
    "\n"
   ]
  },
  {
   "cell_type": "markdown",
   "metadata": {},
   "source": [
    "Pour illustrer la notion de niveau d'un test, nous simulons 1000 paires d'échantillons de taille 10 comme ci-dessus et nous les stockons dans deux matrices `X` et `Y`."
   ]
  },
  {
   "cell_type": "code",
   "execution_count": 19,
   "metadata": {
    "vscode": {
     "languageId": "r"
    }
   },
   "outputs": [],
   "source": [
    "X <- matrix(rnorm(1000*10), nrow=1000)\n",
    "Y <- matrix(rnorm(1000*10), nrow=1000)"
   ]
  },
  {
   "cell_type": "markdown",
   "metadata": {},
   "source": [
    "<div class=\"alert alert-block alert-success\">\n",
    "    Utilisez la cellule suivante pour répondre aux questions :\n",
    "    <ol>\n",
    "        <li>Effectuer un test de comparaison des moyennes pour chaque paire d'échantillons et stocker la p-valeur du résultat dans un vecteur <code>p_valeur</code> de taille 1000.</li>\n",
    "        <li>Combien de p-valeurs inférieures à 0.05 obtenez-vous ? Combien devriez-vous théoriquement en obtenir en moyenne ?</li>\n",
    "        <li>Repérer l'indice du test qui donne la plus petite p-valeur (il peut être utile d'utiliser la fonction <code>which.min()</code>). Pour un niveau de 95%, doit-on accepter ou rejeter $H_0$ pour ce test ?</li>\n",
    "        <li>Représenter graphiquement les données correspondant à ce test :\n",
    "            <ul>\n",
    "                <li>afficher la densité de la loi normale centrée réduite entre -3 et 3 avec <code>plot(dnorm, -3, 3, type=\"l\")</code>,</li>\n",
    "                <li>afficher les deux échantillons avec deux couleurs différentes grâce à la fonction <code>rug()</code>,</li>\n",
    "                <li>afficher les moyennes des deux échantillons (fonction <code>rug()</code>),</li>\n",
    "                <li>ajouter une légende.</li>\n",
    "            </ul>\n",
    "            <center><img src=\"img/student.png\"></center>\n",
    "        </li>\n",
    "    </ol>\n",
    "</div>"
   ]
  },
  {
   "cell_type": "code",
   "execution_count": 27,
   "metadata": {
    "vscode": {
     "languageId": "r"
    }
   },
   "outputs": [
    {
     "name": "stdout",
     "output_type": "stream",
     "text": [
      "Nombre de p_values < 0.05: 55 \n",
      "Indice de la plus petite p_value: 967 \n",
      "Plus petite p_value: 0.001757389 \n"
     ]
    },
    {
     "data": {
      "image/png": "[encoded data removed]",
      "text/plain": [
       "plot without title"
      ]
     },
     "metadata": {
      "image/png": {
       "height": 420,
       "width": 420
      }
     },
     "output_type": "display_data"
    }
   ],
   "source": [
    "# À FAIRE\n",
    "par(bg=\"white\")\n",
    "# Q1\n",
    "p_values <- rep(0,1000)\n",
    "for (i in 1:1000){\n",
    "  test <- t.test(X[i,], Y[i,], var.equal=TRUE)\n",
    "  p_values[i] <- test$p.value\n",
    "}\n",
    "# Q2\n",
    "p_values_inf_05 <- sum(p_values < 0.05)\n",
    "cat(\"Nombre de p_values < 0.05:\", p_values_inf_05, \"\\n\")\n",
    "indice_min <- which.min(p_values)\n",
    "cat(\"Indice de la plus petite p_value:\", indice_min, \"\\n\")\n",
    "cat(\"Plus petite p_value:\", p_values[indice_min], \"\\n\")\n",
    "# p_value min = 0.000137 < 0.05\n",
    "# donc on rejette H0 pour cet indice\n",
    "# Q3\n",
    "plot(dnorm,-3,3,type = \"l\")\n",
    "rug(X[indice_min,],col=\"blue\")\n",
    "rug(Y[indice_min,],col=\"red\"  )\n",
    "rug(mean(X[indice_min,]),col=\"blue\",lwd=2)\n",
    "rug(mean(Y[indice_min,]),col=\"red\",lwd=2)\n",
    "legend(\"topleft\",legend=c(\"X\",\"Y\"),col=c(\"blue\",\"red\"),lwd=2)"
   ]
  }
 ],
 "metadata": {
  "kernelspec": {
   "display_name": "R",
   "language": "R",
   "name": "ir"
  },
  "language_info": {
   "codemirror_mode": "r",
   "file_extension": ".r",
   "mimetype": "text/x-r-source",
   "name": "R",
   "pygments_lexer": "r",
   "version": "4.5.1"
  }
 },
 "nbformat": 4,
 "nbformat_minor": 4
}
