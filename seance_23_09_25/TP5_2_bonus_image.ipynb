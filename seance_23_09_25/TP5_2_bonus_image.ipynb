{
 "cells": [
  {
   "cell_type": "markdown",
   "metadata": {},
   "source": [
    "# TP 5.2 : Étude de cas en imagerie\n",
    "\n",
    "L'objectif de ce TP est de mettre en oeuvre des méthodes de statistique exploratoire sur un type particulier de données : une image."
   ]
  },
  {
   "cell_type": "markdown",
   "metadata": {},
   "source": [
    "## 1. Les données\n",
    "\n",
    "Les images proposées dans le dossier `data/images` sont au format PNM et de de taille $512 \\times 512$. Pour commencer, vous devez choisir une image et la charger à l'aide de la fonction `read.pnm()` du package `pixmap` (les erreurs peuvent être ignorées)."
   ]
  },
  {
   "cell_type": "code",
   "execution_count": null,
   "metadata": {},
   "outputs": [],
   "source": [
    "library(pixmap)\n",
    "\n",
    "mon_image_fichier <- \"data/images/Yacht_512.pnm\"\n",
    "mon_image <- read.pnm(mon_image_fichier)"
   ]
  },
  {
   "cell_type": "markdown",
   "metadata": {},
   "source": [
    "L'image peut être affichée grâce à la fonction `plot()`."
   ]
  },
  {
   "cell_type": "code",
   "execution_count": null,
   "metadata": {},
   "outputs": [],
   "source": [
    "plot(mon_image)"
   ]
  },
  {
   "cell_type": "markdown",
   "metadata": {},
   "source": [
    "L'objet `mon_image` est de classe `pixmapRGB` qui suit le formalisme objet S4. Ce détail technique est sans grande importance si ce n'est que l'accès aux composants de `mon_image` est différent du formalisme S3 habituel. Ainsi, nous pouvons lister les composants de l'objet avec la commande `slotNames()` au lieu de `names()` et accéder à ces composants avec l'opérateur `@` au lieu de `$`."
   ]
  },
  {
   "cell_type": "code",
   "execution_count": null,
   "metadata": {},
   "outputs": [],
   "source": [
    "# Classe de l'objet\n",
    "class(mon_image)"
   ]
  },
  {
   "cell_type": "code",
   "execution_count": null,
   "metadata": {},
   "outputs": [],
   "source": [
    "# Liste des composants\n",
    "slotNames(mon_image)"
   ]
  },
  {
   "cell_type": "code",
   "execution_count": null,
   "metadata": {},
   "outputs": [],
   "source": [
    "# Accès aux composants\n",
    "mon_image@size"
   ]
  },
  {
   "cell_type": "markdown",
   "metadata": {},
   "source": [
    "## 2. Analyse 1D\n",
    "\n",
    "Les analyses unidimensionnelle vont porter sur les valeurs de l'ensemble des  pixels de l'image dans chaque canal (*channel*). Nous pouvons par exemple travailler sur le canal rouge à partir de l'objet `mon_image_rouge` défini comme ci-dessous ainsi que sur les canaux vert et bleu."
   ]
  },
  {
   "cell_type": "code",
   "execution_count": null,
   "metadata": {},
   "outputs": [],
   "source": [
    "mon_image_rouge <- as.vector(mon_image@red)\n",
    "mon_image_vert <- as.vector(mon_image@green)\n",
    "mon_image_bleu <- as.vector(mon_image@blue)"
   ]
  },
  {
   "cell_type": "markdown",
   "metadata": {},
   "source": [
    "<div class=\"alert alert-block alert-success\">\n",
    "    Utilisez la cellule suivante pour répondre aux questions :\n",
    "    <ol>\n",
    "        <li>Calculer quelques statistiques élémentaires sur chaque canal de l'image initial à l'aide de <code>summary()</code>.</li>\n",
    "        <li>Représenter en parallèle les 3 boxplots correspondant aux canaux de l'image.</li>\n",
    "        <li>Représenter les histogrammes avec <code>hist()</code> accompagnés d'une courbe de densité estimée par la fonction <code>density()</code>.<br>\n",
    "            <center><img src=\"img/image_rgb.png\"></center>\n",
    "        </li>\n",
    "    </ol>\n",
    "</div>"
   ]
  },
  {
   "cell_type": "code",
   "execution_count": null,
   "metadata": {},
   "outputs": [],
   "source": [
    "# À FAIRE"
   ]
  },
  {
   "cell_type": "markdown",
   "metadata": {},
   "source": [
    "## 3. Analyse 2D"
   ]
  },
  {
   "cell_type": "markdown",
   "metadata": {},
   "source": [
    "<div class=\"alert alert-block alert-success\">\n",
    "    Utilisez la cellule suivante pour répondre aux questions :\n",
    "    <ol>\n",
    "        <li>Représenter les nuages de points croisant les canaux deux à deux. Utiliser l'option <code>pch=\".\"</code> de la fonction <code>plot()</code> pour alléger les graphiques.</li>\n",
    "        <li>Calculer la matrice des corrélations linéaire de Pearson entre chaque canaux.</li>\n",
    "    </ol>\n",
    "    <center><img src=\"img/image_2d.png\"></center>\n",
    "</div>"
   ]
  },
  {
   "cell_type": "code",
   "execution_count": null,
   "metadata": {},
   "outputs": [],
   "source": [
    "# À FAIRE"
   ]
  },
  {
   "cell_type": "markdown",
   "metadata": {},
   "source": [
    "## 4. Analyse multidimensionnelle\n",
    "\n",
    "Dans cette section, nous supposons que les données sont stockées dans un `data.frame` à 3 colonnes (une colonne par canal) et n lignes (une ligne par pixel de l'image, soit 262144 pour une image de taille $512 \\times 512$)."
   ]
  },
  {
   "cell_type": "code",
   "execution_count": null,
   "metadata": {},
   "outputs": [],
   "source": [
    "df_image <- data.frame(\n",
    "    rouge = mon_image_rouge,\n",
    "    vert  = mon_image_vert,\n",
    "    bleu  = mon_image_bleu\n",
    ")\n",
    "\n",
    "cat(\"Dimensions du data frame :\", dim(df_image))"
   ]
  },
  {
   "cell_type": "markdown",
   "metadata": {},
   "source": [
    "### 4.1 Classification"
   ]
  },
  {
   "cell_type": "markdown",
   "metadata": {},
   "source": [
    "<div class=\"alert alert-block alert-success\">\n",
    "    Utilisez la cellule suivante pour répondre aux questions :\n",
    "    <ol>\n",
    "        <li>Procéder à une classification des pixels avec <code>kmeans()</code> à 2, 4 et 8 groupes et stocker les résultats dans <code>kmeans_image_2</code>, <code>kmeans_image_4</code> et <code>kmeans_image_8</code>, respectivement.</li>\n",
    "        <li>Utiliser la fonction <code>pixmapGrey()</code> avec l'option <code>nrow=512</code> pour convertir les résultats de chaque classification en une image de niveaux de gris.</li>\n",
    "        <li>Utiliser <code>plot()</code> pour visualiser ces images.</li>\n",
    "        <li>Commenter la mise en oeuvre d'une méthode de classification sur une image. Comment pourrait-on définir un nombre de groupes raisonnable avant de procéder à un algorithme K-means comme décrit précédemment ?</li>\n",
    "    </ol>\n",
    "    <center><img src=\"img/image_cluster.png\"></center>\n",
    "</div>"
   ]
  },
  {
   "cell_type": "code",
   "execution_count": null,
   "metadata": {},
   "outputs": [],
   "source": [
    "# À FAIRE"
   ]
  },
  {
   "cell_type": "markdown",
   "metadata": {},
   "source": [
    "### 4.1 Analyse en composantes principales"
   ]
  },
  {
   "cell_type": "markdown",
   "metadata": {},
   "source": [
    "<div class=\"alert alert-block alert-success\">\n",
    "    Utilisez la cellule suivante pour répondre aux questions :\n",
    "    <ol>\n",
    "        <li>Effectuer une ACP en utilisant la fonction <code>PCA()</code> de <code>FactoMineR</code> sans réduire les données (option <code>scale.unit=FALSE</code>).</li>\n",
    "        <li>Expliquer pourquoi les données ne doivent pas être réduites.</li>\n",
    "        <li>Le package <code>FactoMineR</code> dispose d'une fonction de reconstruction des données à partir des résultats d'une ACP. Par exemple, pour reconstruire l'image à partir de la première composante principale seulement, nous utiliserons l'option <code>ncp=1</code> de la fonction <code>reconst()</code>. Voici un exemple de code que vous pouvez reprendre pour repasser du format vectoriel à une matrice d'image en limitant les valeurs au segment $[0,1]$ grâce aux fonctions <code>pmin()</code> et <code>pmax()</code>.</li>\n",
    "    </ol>\n",
    "</div>"
   ]
  },
  {
   "cell_type": "code",
   "execution_count": null,
   "metadata": {},
   "outputs": [],
   "source": [
    "# Reconstruction à partir de la première composante principale\n",
    "reconst_cp1 <- reconst(acp_image, ncp=1)\n",
    "\n",
    "# Copie de l'image initiale\n",
    "mon_image_cp1 <- mon_image\n",
    "\n",
    "# Remplacement des canaux par la reconstruction\n",
    "mon_image_cp1@red <- matrix(pmax(pmin(reconst_cp1[,1], 1), 0), 512, 512)\n",
    "mon_image_cp1@green <- matrix(pmax(pmin(reconst_cp1[,2], 1), 0), 512, 512)\n",
    "mon_image_cp1@blue <- matrix(pmax(pmin(reconst_cp1[,3], 1), 0), 512, 512)\n",
    "\n",
    "# Affichage de l'image reconstruite\n",
    "plot(mon_image_cp1)"
   ]
  },
  {
   "cell_type": "markdown",
   "metadata": {},
   "source": [
    "<div class=\"alert alert-block alert-success\">\n",
    "    <ol start=\"4\">\n",
    "        <li>Utiliser le code ci-dessus pour reconstruire l'image à partir de 1, 2 et 3 composantes principales. Comparer les résultats à l'image initiale.</li>\n",
    "        <li>Commenter les différentes manipulations réalisées autour de l'ACP. En quoi les résultats de la reconstruction illustrent-ils le principe de l'ACP ?</li>\n",
    "    </ol>\n",
    "</div>"
   ]
  },
  {
   "cell_type": "code",
   "execution_count": null,
   "metadata": {},
   "outputs": [],
   "source": [
    "# À FAIRE"
   ]
  }
 ],
 "metadata": {
  "kernelspec": {
   "display_name": "R",
   "language": "R",
   "name": "ir"
  },
  "language_info": {
   "codemirror_mode": "r",
   "file_extension": ".r",
   "mimetype": "text/x-r-source",
   "name": "R",
   "pygments_lexer": "r",
   "version": "3.6.1"
  }
 },
 "nbformat": 4,
 "nbformat_minor": 4
}
