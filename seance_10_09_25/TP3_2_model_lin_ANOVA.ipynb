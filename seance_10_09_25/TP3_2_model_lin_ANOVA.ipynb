{
 "cells": [
  {
   "cell_type": "markdown",
   "metadata": {},
   "source": [
    "# TP 3.2 : Modélisation, Modèle linéaire et ANOVA"
   ]
  },
  {
   "cell_type": "markdown",
   "metadata": {},
   "source": [
    "## 1. Régression linéaire simple\n",
    "\n",
    "Pour ce premier exercice, nous manipulerons le jeu de données `cars`."
   ]
  },
  {
   "cell_type": "code",
   "execution_count": null,
   "metadata": {},
   "outputs": [],
   "source": [
    "help(cars)"
   ]
  },
  {
   "cell_type": "markdown",
   "metadata": {},
   "source": [
    "<div class=\"alert alert-block alert-success\">\n",
    "    Utilisez la cellule suivante pour répondre aux questions :\n",
    "    <ol>\n",
    "        <li>À partir des formules rappelées en cours, calculer l'équation de la droite de régression de <code>cars&dollar;dist</code> en fonction de <code>cars&dollar;speed</code>.</li>\n",
    "        <li>Retrouver ce résultat directement grâce à la fonction <code>lm()</code>.</li>\n",
    "        <li>Calculer la part de variance expliquée par le modèle en fonction du rapport de la variance des résidus sur la variance initiale. Cette quantité s'appelle <i>coefficient de détermination linéaire de Pearson</i> ou plus simplement $R^2$.</li>\n",
    "        <li>Représenter graphiquement le nuage de points des données traversé par la droite de régression.<br>\n",
    "            <center><img src=\"img/regression_simple.png\"></center>\n",
    "        </li>\n",
    "    </ol>\n",
    "</div>"
   ]
  },
  {
   "cell_type": "code",
   "execution_count": null,
   "metadata": {},
   "outputs": [],
   "source": [
    "# À FAIRE"
   ]
  },
  {
   "cell_type": "markdown",
   "metadata": {},
   "source": [
    "## 2. Régression linéaire multiple\n",
    "\n",
    "Le cadre général du modèle de régression linéaire peut être donné par un vecteur $y \\in \\mathbb{R}^n$ contenant les $n$ observations de la *variable à expliquer* et par une matrice $X \\in \\mathbb{R}^{n \\times p}$ contenant les $n$ observations des $p$ *variables explicatives*. Parmi les variables explicatives, une colonne de 1 est souvent ajoutée pour traiter l'ordonnée à l'origine comme les autres variables et unifier les notations. La relation recherchée se formule à l'aide du *vecteur des coefficients* $\\theta \\in \\mathbb{R}^p$,\n",
    "\\begin{equation*}\n",
    "y = X\\theta + \\varepsilon\n",
    "\\end{equation*}\n",
    "où $\\varepsilon \\in \\mathbb{R}^n$ est le vecteur des résidus. Des calculs similaires à ceux vus en cours pour le critère des moindres carrés donnent la formulation matricielle de l'estimateur $\\hat{\\theta}$ lorsque la matrice $X^\\top X$ est inversible,\n",
    "\\begin{equation*}\n",
    "\\hat{\\theta} = (X^\\top X)^{-1} X^\\top y.\n",
    "\\end{equation*}\n",
    "\n",
    "Nous considérons maintenant le jeu de données `swiss`."
   ]
  },
  {
   "cell_type": "code",
   "execution_count": null,
   "metadata": {},
   "outputs": [],
   "source": [
    "help(swiss)"
   ]
  },
  {
   "cell_type": "markdown",
   "metadata": {},
   "source": [
    "<div class=\"alert alert-block alert-success\">\n",
    "    Utilisez la cellule suivante pour répondre aux questions :\n",
    "    <ol>\n",
    "        <li>Effectuer la régression linéaire multiple modélisant la fertilité en fonction des autres variables à l'aide de la fonction <code>lm()</code>.</li>\n",
    "        <li>Recalculer les coefficients de la régression par la formule matricielle donnée ci-dessus.</li>\n",
    "        <li>Utiliser la fonction <code>step()</code> pour réduire la dimension du modèle en retirant les variables négligeables.</li>\n",
    "    </ol>\n",
    "</div>"
   ]
  },
  {
   "cell_type": "code",
   "execution_count": null,
   "metadata": {},
   "outputs": [],
   "source": [
    "# À FAIRE"
   ]
  },
  {
   "cell_type": "markdown",
   "metadata": {},
   "source": [
    "## 3. Analyse de variance\n",
    "\n",
    "Dans cette dernière partie, nous utiliserons le jeu de données `iris`."
   ]
  },
  {
   "cell_type": "code",
   "execution_count": null,
   "metadata": {},
   "outputs": [],
   "source": [
    "help(iris)"
   ]
  },
  {
   "cell_type": "markdown",
   "metadata": {},
   "source": [
    "<div class=\"alert alert-block alert-success\">\n",
    "    Utilisez la cellule suivante pour répondre aux questions :\n",
    "    <ol>\n",
    "        <li>Représenter les boxplots de chacune des 4 variables en fonction des modalités de la variable <code>Species</code>.<br>\n",
    "            <center><img src=\"img/iris.png\"></center>\n",
    "        </li>\n",
    "        <li>On souhaite appliquer une ANOVA sur chacun des variable quantitative de ce jeux de donnée. Que cherche-t-on à tester ? </li>\n",
    "        <li>Le bon fonctionnement de l'ANOVA repose sur des hypothèses, quelles sont t'elle ? Mettez en place un tester pour vérifier si elles semble raisonnable sur ce jeux de données. </li>\n",
    "        <li>Pour chaque variable quantitative du jeu de données <code>iris</code>, utiliser la fonction <code>aov()</code> puis <code>print()</code> et <code>summary()</code> sur le résultat pour appliquer l'ANOVA.</li>\n",
    "    </ol>\n",
    "</div>"
   ]
  },
  {
   "cell_type": "code",
   "execution_count": null,
   "metadata": {},
   "outputs": [],
   "source": [
    "# À FAIRE"
   ]
  }
 ],
 "metadata": {
  "kernelspec": {
   "display_name": "R",
   "language": "R",
   "name": "ir"
  },
  "language_info": {
   "codemirror_mode": "r",
   "file_extension": ".r",
   "mimetype": "text/x-r-source",
   "name": "R",
   "pygments_lexer": "r",
   "version": "3.6.1"
  }
 },
 "nbformat": 4,
 "nbformat_minor": 4
}
