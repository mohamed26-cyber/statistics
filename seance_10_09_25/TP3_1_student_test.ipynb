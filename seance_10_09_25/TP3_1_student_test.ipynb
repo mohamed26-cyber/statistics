{
 "cells": [
  {
   "cell_type": "markdown",
   "metadata": {},
   "source": [
    "# TP 3.1 : Test de Student"
   ]
  },
  {
   "cell_type": "markdown",
   "metadata": {},
   "source": [
    "Nous nous intéressons ici au test de Student de comparaison des moyennes sur 2 échantillons indépendants simulés selon des lois normales de même variance $\\sigma^2 > 0$,\n",
    "\\begin{equation*}\n",
    "X_1,\\dots,X_p \\sim \\mathcal{N}(m_X,\\sigma^2) \\quad \\text{et} \\quad Y_1,\\dots,Y_q \\sim \\mathcal{N}(m_Y,\\sigma^2).\n",
    "\\end{equation*}\n",
    "Pour expérimenter, nous prendrons $p=q=10$, $m_X=m_Y=0$ et $\\sigma^2=1$."
   ]
  },
  {
   "cell_type": "code",
   "execution_count": null,
   "metadata": {},
   "outputs": [],
   "source": [
    "# Génération des échantillons\n",
    "x <- rnorm(10)\n",
    "y <- rnorm(10)"
   ]
  },
  {
   "cell_type": "markdown",
   "metadata": {},
   "source": [
    "Le test bilatéral de comparaison des moyennes sur ces 2 échantillons se fait en utilisant la fonction `t.test()` avec l'option `var.equal=TRUE`."
   ]
  },
  {
   "cell_type": "code",
   "execution_count": null,
   "metadata": {},
   "outputs": [],
   "source": [
    "# Test bilatéral de comparaison des moyennes\n",
    "resultat_test <- t.test(x, y, var.equal=TRUE)\n",
    "\n",
    "# L'objet obtenu contient beaucoup d'informations\n",
    "resultat_test"
   ]
  },
  {
   "cell_type": "markdown",
   "metadata": {},
   "source": [
    "<div class=\"alert alert-block alert-success\">\n",
    "    Utilisez la cellule suivante pour répondre aux questions :\n",
    "    <ol>\n",
    "        <li>Donner l'hypothèse nulle $H_0$ et l'hypothèse alternative $H_1$ de ce test.</li>\n",
    "        <li>Pourquoi faut-il supposer que les deux échantillons aient la même variance ? En particulier, quelle est la loi de la variable\n",
    "            \\begin{equation*}\n",
    "                (p+q-2)\\frac{\\tilde{\\sigma}^2_{p,q}}{\\sigma^2} \\quad \\text{où} \\quad \\tilde{\\sigma}^2_{p,q} = \\frac{1}{p+q-2}\\sum_{k=1}^p\\left( X_k - \\bar{X}_p \\right)^2 + \\frac{1}{p+q-2}\\sum_{k=1}^q\\left( Y_k - \\bar{Y}_q \\right)^2\\ ?\n",
    "            \\end{equation*}\n",
    "        </li>\n",
    "        <li>En déduire la loi de la statistique de test\n",
    "            \\begin{equation*}\n",
    "                T = \\sqrt{\\frac{pq}{p+q}} \\times \\frac{\\bar{X}_p - \\bar{Y}_q}{\\sqrt{\\tilde{\\sigma}^2_{p,q}}}.\n",
    "            \\end{equation*}\n",
    "        </li>\n",
    "        <li>Vérifier le calcul de la statistique de test donné dans <code>resultat_test</code>.</li>\n",
    "        <li>Quelle est la p-valeur du test <code>resultat_test</code> ? Pour un niveau de 95%, doit-on accepter ou rejeter $H_0$ ? Est-ce cohérent avec notre simulation initiale ?</li>\n",
    "        <li>Recalculer cette p-valeur à partir d'une loi de Student à 18 degrés de liberté.</li>\n",
    "    </ol>\n",
    "</div>"
   ]
  },
  {
   "cell_type": "code",
   "execution_count": null,
   "metadata": {},
   "outputs": [],
   "source": [
    "# À FAIRE"
   ]
  },
  {
   "cell_type": "markdown",
   "metadata": {},
   "source": [
    "Pour illustrer la notion de niveau d'un test, nous simulons 1000 paires d'échantillons de taille 10 comme ci-dessus et nous les stockons dans deux matrices `X` et `Y`."
   ]
  },
  {
   "cell_type": "code",
   "execution_count": null,
   "metadata": {},
   "outputs": [],
   "source": [
    "X <- matrix(rnorm(1000*10), nrow=1000)\n",
    "Y <- matrix(rnorm(1000*10), nrow=1000)"
   ]
  },
  {
   "cell_type": "markdown",
   "metadata": {},
   "source": [
    "<div class=\"alert alert-block alert-success\">\n",
    "    Utilisez la cellule suivante pour répondre aux questions :\n",
    "    <ol>\n",
    "        <li>Effectuer un test de comparaison des moyennes pour chaque paire d'échantillons et stocker la p-valeur du résultat dans un vecteur <code>p_valeur</code> de taille 1000.</li>\n",
    "        <li>Combien de p-valeurs inférieures à 0.05 obtenez-vous ? Combien devriez-vous théoriquement en obtenir en moyenne ?</li>\n",
    "        <li>Repérer l'indice du test qui donne la plus petite p-valeur (il peut être utile d'utiliser la fonction <code>which.min()</code>). Pour un niveau de 95%, doit-on accepter ou rejeter $H_0$ pour ce test ?</li>\n",
    "        <li>Représenter graphiquement les données correspondant à ce test :\n",
    "            <ul>\n",
    "                <li>afficher la densité de la loi normale centrée réduite entre -3 et 3 avec <code>plot(dnorm, -3, 3, type=\"l\")</code>,</li>\n",
    "                <li>afficher les deux échantillons avec deux couleurs différentes grâce à la fonction <code>rug()</code>,</li>\n",
    "                <li>afficher les moyennes des deux échantillons (fonction <code>rug()</code>),</li>\n",
    "                <li>ajouter une légende.</li>\n",
    "            </ul>\n",
    "            <center><img src=\"img/student.png\"></center>\n",
    "        </li>\n",
    "    </ol>\n",
    "</div>"
   ]
  },
  {
   "cell_type": "code",
   "execution_count": null,
   "metadata": {},
   "outputs": [],
   "source": [
    "# À FAIRE"
   ]
  }
 ],
 "metadata": {
  "kernelspec": {
   "display_name": "R",
   "language": "R",
   "name": "ir"
  },
  "language_info": {
   "codemirror_mode": "r",
   "file_extension": ".r",
   "mimetype": "text/x-r-source",
   "name": "R",
   "pygments_lexer": "r",
   "version": "3.6.1"
  }
 },
 "nbformat": 4,
 "nbformat_minor": 4
}
