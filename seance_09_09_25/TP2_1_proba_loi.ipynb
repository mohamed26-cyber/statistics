{
 "cells": [
  {
   "cell_type": "markdown",
   "metadata": {},
   "source": [
    "# TP 2.1: Un peu de probabilités"
   ]
  },
  {
   "cell_type": "markdown",
   "metadata": {},
   "source": [
    "## 1. Autour de la loi normale\n",
    "\n",
    "La fonction `rnorm()` permet de générer des observations indépendantes d'une loi normale. Par défaut, la moyenne de cette loi est nulle et la variance vaut 1."
   ]
  },
  {
   "cell_type": "code",
   "execution_count": null,
   "metadata": {},
   "outputs": [],
   "source": [
    "# Génère un vecteur de 10 observations\n",
    "vecteur_gaussien_10 <- rnorm(10)\n",
    "vecteur_gaussien_10"
   ]
  },
  {
   "cell_type": "markdown",
   "metadata": {},
   "source": [
    "<div class=\"alert alert-block alert-success\">\n",
    "    Utilisez la cellule suivante pour répondre aux questions :\n",
    "    <ol>\n",
    "        <li>Représenter l'histogramme des valeurs contenues dans <code>vecteur_gaussien_10</code> grâce à la fonction <code>hist()</code> en limitant l'axe des abscisses à $[-3,3]$.</li>\n",
    "        <li>Effectuer les mêmes opérations en générant cette fois 100 observations dans un objet <code>vecteur_gaussien_100</code>. Commenter.</li>\n",
    "        <li>Dans une matrice de taille $200 \\times 10$, générer des observations d'une loi normale centrée réduite.</li>\n",
    "        <li>Calculer les 200 moyennes des 200 échantillons donnés par les lignes de la matrice précédente. Stocker les résultats dans un objet <code>vecteur_moyen_10</code> et représenter l'histogramme de ces 200 moyennes en utilisant la même échelle que précédemment pour l'axe des abscisses.</li>\n",
    "        <li>Calculer la moyenne et la variance des valeurs du vecteur <code>vecteur_moyen_10</code>. Ces résultats sont-ils cohérents avec les valeurs théoriques ?</li>\n",
    "        <li>Effectuer les mêmes opérations avec des échantillons de 100 observations dans une matrice $200 \\times 100$.</li>\n",
    "    </ol>\n",
    "</div>"
   ]
  },
  {
   "cell_type": "code",
   "execution_count": null,
   "metadata": {},
   "outputs": [],
   "source": [
    "# À FAIRE"
   ]
  },
  {
   "cell_type": "markdown",
   "metadata": {},
   "source": [
    "## 2. Vers la loi du $\\chi^2$\n",
    "\n",
    "Comme dans l'exercice précédent, nous générons 200 échantillons de 10 observations générées selon un loi normale centrée réduite."
   ]
  },
  {
   "cell_type": "code",
   "execution_count": null,
   "metadata": {},
   "outputs": [],
   "source": [
    "matrice_200_10 <- matrix(rnorm(200*10), nrow=200)"
   ]
  },
  {
   "cell_type": "markdown",
   "metadata": {},
   "source": [
    "<div class=\"alert alert-block alert-success\">\n",
    "    Utilisez la cellule suivante pour répondre aux questions :\n",
    "    <ol>\n",
    "        <li>À partir de la matrice <code>matrice_200_10</code>, calculer le vecteur <code>vecteur_carre_10</code> de longueur 200 contenant la somme des carrés des valeurs de chacun des 200 échantillons de taille 10.</li>\n",
    "        <li>Représenter l'histogramme de ces valeurs.</li>\n",
    "        <li>Superposer la densité d'une loi de $\\chi^2$ (fonction <code>dchisq()</code>)à 10 degrés de liberté.<br>\n",
    "            <center><img src=\"img/chi2.png\"></center></li>\n",
    "    </ol>\n",
    "</div>"
   ]
  },
  {
   "cell_type": "code",
   "execution_count": null,
   "metadata": {},
   "outputs": [],
   "source": [
    "# À FAIRE"
   ]
  },
  {
   "cell_type": "markdown",
   "metadata": {},
   "source": [
    "## 3. Vers la loi de Fisher\n",
    "\n",
    "Nous générons cette fois deux matrices remplies d'observations indépendantes de loi normale centrée réduite et de tailles respectives $200 \\times 5$ et $200 \\times 10$."
   ]
  },
  {
   "cell_type": "code",
   "execution_count": null,
   "metadata": {},
   "outputs": [],
   "source": [
    "matrice_200_5 <- matrix(rnorm(200*5), nrow=200)\n",
    "matrice_200_10 <- matrix(rnorm(200*10), nrow=200)"
   ]
  },
  {
   "cell_type": "markdown",
   "metadata": {},
   "source": [
    "<div class=\"alert alert-block alert-success\">\n",
    "    Utilisez la cellule suivante pour répondre aux questions :\n",
    "    <ol>\n",
    "        <li>Comme dans l'exercice précédent, calculer les vecteurs <code>vecteur_carre_5</code> et <code>vecteur_carre_10</code> de longueur 200 contenant la somme des carrés des valeurs de chaque ligne des deux matrices.</li>\n",
    "        <li>Calculer le vecteur <code>vecteur_rapport_5_10</code> obtenu par le rapport de <code>vecteur_carre_5</code> sur <code>vecteur_carre_10</code>.</li>\n",
    "        <li>Représenter l'histogramme des 200 valeurs du vecteur <code>vecteur_rapport_5_10</code>.</li>\n",
    "        <li>Superposer la densité d'une loi de Fisher (fonction <code>df()</code>)à 5 et 10 degrés de liberté.</li>\n",
    "    </ol>\n",
    "</div>"
   ]
  },
  {
   "cell_type": "code",
   "execution_count": null,
   "metadata": {},
   "outputs": [],
   "source": [
    "# À FAIRE"
   ]
  }
 ],
 "metadata": {
  "kernelspec": {
   "display_name": "R",
   "language": "R",
   "name": "ir"
  },
  "language_info": {
   "codemirror_mode": "r",
   "file_extension": ".r",
   "mimetype": "text/x-r-source",
   "name": "R",
   "pygments_lexer": "r",
   "version": "3.6.1"
  }
 },
 "nbformat": 4,
 "nbformat_minor": 4
}
